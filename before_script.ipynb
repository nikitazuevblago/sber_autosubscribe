{
 "cells": [
  {
   "cell_type": "code",
   "execution_count": 1,
   "id": "524eea5e",
   "metadata": {
    "executionInfo": {
     "elapsed": 2390,
     "status": "ok",
     "timestamp": 1674368115368,
     "user": {
      "displayName": "Никита Зуев",
      "userId": "14095855690740366827"
     },
     "user_tz": -300
    },
    "id": "524eea5e"
   },
   "outputs": [],
   "source": [
    "#Importing libraries\n",
    "\n",
    "import pandas as pd\n",
    "from sklearn.preprocessing import StandardScaler,MinMaxScaler,LabelEncoder\n",
    "from sklearn.model_selection import train_test_split\n",
    "from sklearn.linear_model import LogisticRegression,LinearRegression\n",
    "from sklearn.ensemble import RandomForestClassifier\n",
    "import pickle\n",
    "from sklearn.naive_bayes import BernoulliNB\n",
    "from imblearn.over_sampling import SMOTE\n",
    "import joblib\n",
    "import os\n",
    "from sklearn import svm\n",
    "from sklearn import tree\n",
    "from sklearn.neighbors import KNeighborsClassifier\n",
    "import warnings\n",
    "from sklearn.metrics import roc_auc_score\n",
    "warnings.filterwarnings('ignore')\n",
    "import seaborn as sns\n",
    "import matplotlib.pyplot as plt\n",
    "from sklearn.model_selection import cross_validate"
   ]
  },
  {
   "cell_type": "code",
   "execution_count": 2,
   "id": "5f45fced",
   "metadata": {
    "executionInfo": {
     "elapsed": 87097,
     "status": "ok",
     "timestamp": 1674367694805,
     "user": {
      "displayName": "Никита Зуев",
      "userId": "14095855690740366827"
     },
     "user_tz": -300
    },
    "id": "5f45fced"
   },
   "outputs": [],
   "source": [
    "#Downloading dataframes\n",
    "\n",
    "df_sessions = pd.read_csv('/home/nikitazuev/git/sber_autosubscribe/final_project/data/ga_sessions.csv', low_memory=False)\n",
    "df_hits = pd.read_csv('/home/nikitazuev/git/sber_autosubscribe/final_project/data/ga_hits.csv')"
   ]
  },
  {
   "cell_type": "code",
   "execution_count": 3,
   "id": "32be7e6e",
   "metadata": {},
   "outputs": [
    {
     "data": {
      "text/html": [
       "<div>\n",
       "<style scoped>\n",
       "    .dataframe tbody tr th:only-of-type {\n",
       "        vertical-align: middle;\n",
       "    }\n",
       "\n",
       "    .dataframe tbody tr th {\n",
       "        vertical-align: top;\n",
       "    }\n",
       "\n",
       "    .dataframe thead th {\n",
       "        text-align: right;\n",
       "    }\n",
       "</style>\n",
       "<table border=\"1\" class=\"dataframe\">\n",
       "  <thead>\n",
       "    <tr style=\"text-align: right;\">\n",
       "      <th></th>\n",
       "      <th>session_id</th>\n",
       "      <th>client_id</th>\n",
       "      <th>visit_date</th>\n",
       "      <th>visit_time</th>\n",
       "      <th>visit_number</th>\n",
       "      <th>utm_source</th>\n",
       "      <th>utm_medium</th>\n",
       "      <th>utm_campaign</th>\n",
       "      <th>utm_adcontent</th>\n",
       "      <th>utm_keyword</th>\n",
       "      <th>device_category</th>\n",
       "      <th>device_os</th>\n",
       "      <th>device_brand</th>\n",
       "      <th>device_model</th>\n",
       "      <th>device_screen_resolution</th>\n",
       "      <th>device_browser</th>\n",
       "      <th>geo_country</th>\n",
       "      <th>geo_city</th>\n",
       "    </tr>\n",
       "  </thead>\n",
       "  <tbody>\n",
       "    <tr>\n",
       "      <th>0</th>\n",
       "      <td>9055434745589932991.1637753792.1637753792</td>\n",
       "      <td>2108382700.1637753791</td>\n",
       "      <td>2021-11-24</td>\n",
       "      <td>14:36:32</td>\n",
       "      <td>1</td>\n",
       "      <td>ZpYIoDJMcFzVoPFsHGJL</td>\n",
       "      <td>banner</td>\n",
       "      <td>LEoPHuyFvzoNfnzGgfcd</td>\n",
       "      <td>vCIpmpaGBnIQhyYNkXqp</td>\n",
       "      <td>puhZPIYqKXeFPaUviSjo</td>\n",
       "      <td>mobile</td>\n",
       "      <td>Android</td>\n",
       "      <td>Huawei</td>\n",
       "      <td>NaN</td>\n",
       "      <td>360x720</td>\n",
       "      <td>Chrome</td>\n",
       "      <td>Russia</td>\n",
       "      <td>Zlatoust</td>\n",
       "    </tr>\n",
       "    <tr>\n",
       "      <th>1</th>\n",
       "      <td>905544597018549464.1636867290.1636867290</td>\n",
       "      <td>210838531.1636867288</td>\n",
       "      <td>2021-11-14</td>\n",
       "      <td>08:21:30</td>\n",
       "      <td>1</td>\n",
       "      <td>MvfHsxITijuriZxsqZqt</td>\n",
       "      <td>cpm</td>\n",
       "      <td>FTjNLDyTrXaWYgZymFkV</td>\n",
       "      <td>xhoenQgDQsgfEPYNPwKO</td>\n",
       "      <td>IGUCNvHlhfHpROGclCit</td>\n",
       "      <td>mobile</td>\n",
       "      <td>Android</td>\n",
       "      <td>Samsung</td>\n",
       "      <td>NaN</td>\n",
       "      <td>385x854</td>\n",
       "      <td>Samsung Internet</td>\n",
       "      <td>Russia</td>\n",
       "      <td>Moscow</td>\n",
       "    </tr>\n",
       "    <tr>\n",
       "      <th>2</th>\n",
       "      <td>9055446045651783499.1640648526.1640648526</td>\n",
       "      <td>2108385331.1640648523</td>\n",
       "      <td>2021-12-28</td>\n",
       "      <td>02:42:06</td>\n",
       "      <td>1</td>\n",
       "      <td>ZpYIoDJMcFzVoPFsHGJL</td>\n",
       "      <td>banner</td>\n",
       "      <td>LEoPHuyFvzoNfnzGgfcd</td>\n",
       "      <td>vCIpmpaGBnIQhyYNkXqp</td>\n",
       "      <td>puhZPIYqKXeFPaUviSjo</td>\n",
       "      <td>mobile</td>\n",
       "      <td>Android</td>\n",
       "      <td>Huawei</td>\n",
       "      <td>NaN</td>\n",
       "      <td>360x720</td>\n",
       "      <td>Chrome</td>\n",
       "      <td>Russia</td>\n",
       "      <td>Krasnoyarsk</td>\n",
       "    </tr>\n",
       "    <tr>\n",
       "      <th>3</th>\n",
       "      <td>9055447046360770272.1622255328.1622255328</td>\n",
       "      <td>2108385564.1622255328</td>\n",
       "      <td>2021-05-29</td>\n",
       "      <td>05:00:00</td>\n",
       "      <td>1</td>\n",
       "      <td>kjsLglQLzykiRbcDiGcD</td>\n",
       "      <td>cpc</td>\n",
       "      <td>NaN</td>\n",
       "      <td>NOBKLgtuvqYWkXQHeYWM</td>\n",
       "      <td>NaN</td>\n",
       "      <td>mobile</td>\n",
       "      <td>NaN</td>\n",
       "      <td>Xiaomi</td>\n",
       "      <td>NaN</td>\n",
       "      <td>393x786</td>\n",
       "      <td>Chrome</td>\n",
       "      <td>Russia</td>\n",
       "      <td>Moscow</td>\n",
       "    </tr>\n",
       "    <tr>\n",
       "      <th>4</th>\n",
       "      <td>9055447046360770272.1622255345.1622255345</td>\n",
       "      <td>2108385564.1622255328</td>\n",
       "      <td>2021-05-29</td>\n",
       "      <td>05:00:00</td>\n",
       "      <td>2</td>\n",
       "      <td>kjsLglQLzykiRbcDiGcD</td>\n",
       "      <td>cpc</td>\n",
       "      <td>NaN</td>\n",
       "      <td>NaN</td>\n",
       "      <td>NaN</td>\n",
       "      <td>mobile</td>\n",
       "      <td>NaN</td>\n",
       "      <td>Xiaomi</td>\n",
       "      <td>NaN</td>\n",
       "      <td>393x786</td>\n",
       "      <td>Chrome</td>\n",
       "      <td>Russia</td>\n",
       "      <td>Moscow</td>\n",
       "    </tr>\n",
       "  </tbody>\n",
       "</table>\n",
       "</div>"
      ],
      "text/plain": [
       "                                  session_id              client_id  \\\n",
       "0  9055434745589932991.1637753792.1637753792  2108382700.1637753791   \n",
       "1   905544597018549464.1636867290.1636867290   210838531.1636867288   \n",
       "2  9055446045651783499.1640648526.1640648526  2108385331.1640648523   \n",
       "3  9055447046360770272.1622255328.1622255328  2108385564.1622255328   \n",
       "4  9055447046360770272.1622255345.1622255345  2108385564.1622255328   \n",
       "\n",
       "   visit_date visit_time  visit_number            utm_source utm_medium  \\\n",
       "0  2021-11-24   14:36:32             1  ZpYIoDJMcFzVoPFsHGJL     banner   \n",
       "1  2021-11-14   08:21:30             1  MvfHsxITijuriZxsqZqt        cpm   \n",
       "2  2021-12-28   02:42:06             1  ZpYIoDJMcFzVoPFsHGJL     banner   \n",
       "3  2021-05-29   05:00:00             1  kjsLglQLzykiRbcDiGcD        cpc   \n",
       "4  2021-05-29   05:00:00             2  kjsLglQLzykiRbcDiGcD        cpc   \n",
       "\n",
       "           utm_campaign         utm_adcontent           utm_keyword  \\\n",
       "0  LEoPHuyFvzoNfnzGgfcd  vCIpmpaGBnIQhyYNkXqp  puhZPIYqKXeFPaUviSjo   \n",
       "1  FTjNLDyTrXaWYgZymFkV  xhoenQgDQsgfEPYNPwKO  IGUCNvHlhfHpROGclCit   \n",
       "2  LEoPHuyFvzoNfnzGgfcd  vCIpmpaGBnIQhyYNkXqp  puhZPIYqKXeFPaUviSjo   \n",
       "3                   NaN  NOBKLgtuvqYWkXQHeYWM                   NaN   \n",
       "4                   NaN                   NaN                   NaN   \n",
       "\n",
       "  device_category device_os device_brand device_model  \\\n",
       "0          mobile   Android       Huawei          NaN   \n",
       "1          mobile   Android      Samsung          NaN   \n",
       "2          mobile   Android       Huawei          NaN   \n",
       "3          mobile       NaN       Xiaomi          NaN   \n",
       "4          mobile       NaN       Xiaomi          NaN   \n",
       "\n",
       "  device_screen_resolution    device_browser geo_country     geo_city  \n",
       "0                  360x720            Chrome      Russia     Zlatoust  \n",
       "1                  385x854  Samsung Internet      Russia       Moscow  \n",
       "2                  360x720            Chrome      Russia  Krasnoyarsk  \n",
       "3                  393x786            Chrome      Russia       Moscow  \n",
       "4                  393x786            Chrome      Russia       Moscow  "
      ]
     },
     "execution_count": 3,
     "metadata": {},
     "output_type": "execute_result"
    }
   ],
   "source": [
    "df_sessions.head() # dataset shows parameters of user session"
   ]
  },
  {
   "cell_type": "code",
   "execution_count": 4,
   "id": "4f91e5d1",
   "metadata": {},
   "outputs": [
    {
     "data": {
      "text/html": [
       "<div>\n",
       "<style scoped>\n",
       "    .dataframe tbody tr th:only-of-type {\n",
       "        vertical-align: middle;\n",
       "    }\n",
       "\n",
       "    .dataframe tbody tr th {\n",
       "        vertical-align: top;\n",
       "    }\n",
       "\n",
       "    .dataframe thead th {\n",
       "        text-align: right;\n",
       "    }\n",
       "</style>\n",
       "<table border=\"1\" class=\"dataframe\">\n",
       "  <thead>\n",
       "    <tr style=\"text-align: right;\">\n",
       "      <th></th>\n",
       "      <th>session_id</th>\n",
       "      <th>hit_date</th>\n",
       "      <th>hit_time</th>\n",
       "      <th>hit_number</th>\n",
       "      <th>hit_type</th>\n",
       "      <th>hit_referer</th>\n",
       "      <th>hit_page_path</th>\n",
       "      <th>event_category</th>\n",
       "      <th>event_action</th>\n",
       "      <th>event_label</th>\n",
       "      <th>event_value</th>\n",
       "    </tr>\n",
       "  </thead>\n",
       "  <tbody>\n",
       "    <tr>\n",
       "      <th>0</th>\n",
       "      <td>5639623078712724064.1640254056.1640254056</td>\n",
       "      <td>2021-12-23</td>\n",
       "      <td>597864.0</td>\n",
       "      <td>30</td>\n",
       "      <td>event</td>\n",
       "      <td>NaN</td>\n",
       "      <td>sberauto.com/cars?utm_source_initial=google&amp;ut...</td>\n",
       "      <td>quiz</td>\n",
       "      <td>quiz_show</td>\n",
       "      <td>NaN</td>\n",
       "      <td>NaN</td>\n",
       "    </tr>\n",
       "    <tr>\n",
       "      <th>1</th>\n",
       "      <td>7750352294969115059.1640271109.1640271109</td>\n",
       "      <td>2021-12-23</td>\n",
       "      <td>597331.0</td>\n",
       "      <td>41</td>\n",
       "      <td>event</td>\n",
       "      <td>NaN</td>\n",
       "      <td>sberauto.com/cars/fiat?city=1&amp;city=18&amp;rental_c...</td>\n",
       "      <td>quiz</td>\n",
       "      <td>quiz_show</td>\n",
       "      <td>NaN</td>\n",
       "      <td>NaN</td>\n",
       "    </tr>\n",
       "    <tr>\n",
       "      <th>2</th>\n",
       "      <td>885342191847998240.1640235807.1640235807</td>\n",
       "      <td>2021-12-23</td>\n",
       "      <td>796252.0</td>\n",
       "      <td>49</td>\n",
       "      <td>event</td>\n",
       "      <td>NaN</td>\n",
       "      <td>sberauto.com/cars/all/volkswagen/polo/e994838f...</td>\n",
       "      <td>quiz</td>\n",
       "      <td>quiz_show</td>\n",
       "      <td>NaN</td>\n",
       "      <td>NaN</td>\n",
       "    </tr>\n",
       "    <tr>\n",
       "      <th>3</th>\n",
       "      <td>142526202120934167.1640211014.1640211014</td>\n",
       "      <td>2021-12-23</td>\n",
       "      <td>934292.0</td>\n",
       "      <td>46</td>\n",
       "      <td>event</td>\n",
       "      <td>NaN</td>\n",
       "      <td>sberauto.com/cars?utm_source_initial=yandex&amp;ut...</td>\n",
       "      <td>quiz</td>\n",
       "      <td>quiz_show</td>\n",
       "      <td>NaN</td>\n",
       "      <td>NaN</td>\n",
       "    </tr>\n",
       "    <tr>\n",
       "      <th>4</th>\n",
       "      <td>3450086108837475701.1640265078.1640265078</td>\n",
       "      <td>2021-12-23</td>\n",
       "      <td>768741.0</td>\n",
       "      <td>79</td>\n",
       "      <td>event</td>\n",
       "      <td>NaN</td>\n",
       "      <td>sberauto.com/cars/all/mercedes-benz/cla-klasse...</td>\n",
       "      <td>quiz</td>\n",
       "      <td>quiz_show</td>\n",
       "      <td>NaN</td>\n",
       "      <td>NaN</td>\n",
       "    </tr>\n",
       "  </tbody>\n",
       "</table>\n",
       "</div>"
      ],
      "text/plain": [
       "                                  session_id    hit_date  hit_time  \\\n",
       "0  5639623078712724064.1640254056.1640254056  2021-12-23  597864.0   \n",
       "1  7750352294969115059.1640271109.1640271109  2021-12-23  597331.0   \n",
       "2   885342191847998240.1640235807.1640235807  2021-12-23  796252.0   \n",
       "3   142526202120934167.1640211014.1640211014  2021-12-23  934292.0   \n",
       "4  3450086108837475701.1640265078.1640265078  2021-12-23  768741.0   \n",
       "\n",
       "   hit_number hit_type hit_referer  \\\n",
       "0          30    event         NaN   \n",
       "1          41    event         NaN   \n",
       "2          49    event         NaN   \n",
       "3          46    event         NaN   \n",
       "4          79    event         NaN   \n",
       "\n",
       "                                       hit_page_path event_category  \\\n",
       "0  sberauto.com/cars?utm_source_initial=google&ut...           quiz   \n",
       "1  sberauto.com/cars/fiat?city=1&city=18&rental_c...           quiz   \n",
       "2  sberauto.com/cars/all/volkswagen/polo/e994838f...           quiz   \n",
       "3  sberauto.com/cars?utm_source_initial=yandex&ut...           quiz   \n",
       "4  sberauto.com/cars/all/mercedes-benz/cla-klasse...           quiz   \n",
       "\n",
       "  event_action event_label  event_value  \n",
       "0    quiz_show         NaN          NaN  \n",
       "1    quiz_show         NaN          NaN  \n",
       "2    quiz_show         NaN          NaN  \n",
       "3    quiz_show         NaN          NaN  \n",
       "4    quiz_show         NaN          NaN  "
      ]
     },
     "execution_count": 4,
     "metadata": {},
     "output_type": "execute_result"
    }
   ],
   "source": [
    "df_hits.head() # dataset shows certain event per session (many sessions but one event)"
   ]
  },
  {
   "cell_type": "code",
   "execution_count": 5,
   "id": "fa663f9e",
   "metadata": {},
   "outputs": [
    {
     "data": {
      "image/png": "[encoded data removed]",
      "text/plain": [
       "<Figure size 640x480 with 1 Axes>"
      ]
     },
     "metadata": {},
     "output_type": "display_data"
    },
    {
     "data": {
      "image/png": "[encoded data removed]",
      "text/plain": [
       "<Figure size 640x480 with 1 Axes>"
      ]
     },
     "metadata": {},
     "output_type": "display_data"
    }
   ],
   "source": [
    "#Checking percentage of NaN values per column\n",
    "\n",
    "nan_sessions = df_sessions.isnull().sum()/df_sessions.shape[0]\n",
    "nan_hits = df_hits.isnull().sum()/df_hits.shape[0]\n",
    "\n",
    "\n",
    "#some columns have enormous amount of nan-values\n",
    "\n",
    "sns.set(style=\"darkgrid\")\n",
    "sns.barplot(y=nan_sessions.index,x=nan_sessions,orient='h')\n",
    "plt.show()\n",
    "sns.barplot(y=nan_hits.index,x=nan_hits,orient='h')\n",
    "plt.show()"
   ]
  },
  {
   "cell_type": "code",
   "execution_count": 6,
   "id": "95e9e83e",
   "metadata": {
    "executionInfo": {
     "elapsed": 492,
     "status": "ok",
     "timestamp": 1674368607617,
     "user": {
      "displayName": "Никита Зуев",
      "userId": "14095855690740366827"
     },
     "user_tz": -300
    },
    "id": "95e9e83e"
   },
   "outputs": [],
   "source": [
    "##################################################DATA CLEANINING################################################\n",
    "#Cleaning (deleting unnecessary columns and if they have more than 20% of NaN)\n",
    "\n",
    "def delete_cols(df):\n",
    "    if 'utm_keyword' in list(df.columns):\n",
    "        unnecessary = ['visit_date','visit_time','visit_number','client_id','device_model','device_os','utm_keyword'] #last three are added \n",
    "        df.drop(unnecessary,axis=1,inplace=True)\n",
    "    else:\n",
    "        unnecessary = []\n",
    "        for column in df.columns:\n",
    "            if column!='session_id' and column!='event_action':\n",
    "                unnecessary.append(column)\n",
    "        df.drop(unnecessary,axis=1,inplace=True)\n",
    "    if df.shape[0]>200000:\n",
    "        for col in df.columns:\n",
    "            if float(df[col].isnull().sum()/df.shape[0]) >= 0.2:\n",
    "                del df[col]\n",
    "    "
   ]
  },
  {
   "cell_type": "code",
   "execution_count": 7,
   "id": "0c6c7cd5",
   "metadata": {
    "executionInfo": {
     "elapsed": 894,
     "status": "ok",
     "timestamp": 1674367695661,
     "user": {
      "displayName": "Никита Зуев",
      "userId": "14095855690740366827"
     },
     "user_tz": -300
    },
    "id": "0c6c7cd5"
   },
   "outputs": [],
   "source": [
    "delete_cols(df_sessions)\n",
    "delete_cols(df_hits)"
   ]
  },
  {
   "cell_type": "code",
   "execution_count": 8,
   "id": "9e0aba3b",
   "metadata": {},
   "outputs": [
    {
     "name": "stdout",
     "output_type": "stream",
     "text": [
      "<class 'pandas.core.frame.DataFrame'>\n",
      "RangeIndex: 1860042 entries, 0 to 1860041\n",
      "Data columns (total 11 columns):\n",
      " #   Column                    Dtype \n",
      "---  ------                    ----- \n",
      " 0   session_id                object\n",
      " 1   utm_source                object\n",
      " 2   utm_medium                object\n",
      " 3   utm_campaign              object\n",
      " 4   utm_adcontent             object\n",
      " 5   device_category           object\n",
      " 6   device_brand              object\n",
      " 7   device_screen_resolution  object\n",
      " 8   device_browser            object\n",
      " 9   geo_country               object\n",
      " 10  geo_city                  object\n",
      "dtypes: object(11)\n",
      "memory usage: 156.1+ MB\n",
      "<class 'pandas.core.frame.DataFrame'>\n",
      "RangeIndex: 15726470 entries, 0 to 15726469\n",
      "Data columns (total 2 columns):\n",
      " #   Column        Dtype \n",
      "---  ------        ----- \n",
      " 0   session_id    object\n",
      " 1   event_action  object\n",
      "dtypes: object(2)\n",
      "memory usage: 240.0+ MB\n"
     ]
    },
    {
     "data": {
      "text/plain": [
       "(None, None)"
      ]
     },
     "execution_count": 8,
     "metadata": {},
     "output_type": "execute_result"
    }
   ],
   "source": [
    "#Looking at the result\n",
    "\n",
    "df_sessions.info(),df_hits.info()"
   ]
  },
  {
   "cell_type": "code",
   "execution_count": 9,
   "id": "02d88136",
   "metadata": {
    "executionInfo": {
     "elapsed": 4,
     "status": "ok",
     "timestamp": 1674368609712,
     "user": {
      "displayName": "Никита Зуев",
      "userId": "14095855690740366827"
     },
     "user_tz": -300
    },
    "id": "02d88136"
   },
   "outputs": [],
   "source": [
    "#Filling data\n",
    "#Replacing remained NaN values (<20% in column) in columns with object type with the most frequent word, in discrete cols with mean\n",
    "#all replacement values stores in certain files, so after processing of the raw row nan values could be replaced\n",
    "\n",
    "def fill_data(df):\n",
    "    obj_col = []\n",
    "    num_col = []\n",
    "    for col in df.columns:\n",
    "        if df[col].dtype == 'object':\n",
    "            obj_col.append(col)\n",
    "        else:\n",
    "            num_col.append(col)\n",
    "\n",
    "    path ='/home/nikitazuev/git/sber_autosubscribe/final_project/fill_na/' \n",
    "    directory= os.listdir(path) \n",
    "    if len(directory) < 3:\n",
    "        for null_col in num_col:\n",
    "            df[null_col].fillna(int(df[null_col].mean()),inplace=True)\n",
    "            filename = f'{path}{null_col}_fd.txt'\n",
    "            filled_data = int(df[null_col].mean())\n",
    "            with open(filename,'w') as f:\n",
    "                f.write(str(filled_data))\n",
    "\n",
    "        for null_col in obj_col:\n",
    "            df[null_col].fillna(df[null_col].value_counts().idxmax(),inplace=True)\n",
    "            filename = f'{path}{null_col}_fd.txt'\n",
    "            filled_data = df[null_col].value_counts().idxmax()\n",
    "            with open(filename,'w') as f:\n",
    "                f.write(filled_data)\n",
    "    else:\n",
    "        cols = [col for col in df.columns]\n",
    "        for col in cols:\n",
    "            filename = f'{path}{col}_fd.txt'\n",
    "            with open(filename) as f:    \n",
    "                filled_data = f.read()\n",
    "                if df[col].dtype == 'object': \n",
    "                    df[col].fillna(filled_data,inplace=True)\n",
    "                else:\n",
    "                    df[col].fillna((filled_data),inplace=True)"
   ]
  },
  {
   "cell_type": "code",
   "execution_count": 10,
   "id": "0dbfdc75",
   "metadata": {
    "executionInfo": {
     "elapsed": 7101,
     "status": "ok",
     "timestamp": 1674367720490,
     "user": {
      "displayName": "Никита Зуев",
      "userId": "14095855690740366827"
     },
     "user_tz": -300
    },
    "id": "0dbfdc75"
   },
   "outputs": [],
   "source": [
    "fill_data(df_sessions)"
   ]
  },
  {
   "cell_type": "code",
   "execution_count": 11,
   "id": "0DyPrIGPEBDE",
   "metadata": {
    "colab": {
     "base_uri": "https://localhost:8080/",
     "height": 488
    },
    "executionInfo": {
     "elapsed": 46,
     "status": "ok",
     "timestamp": 1674367720492,
     "user": {
      "displayName": "Никита Зуев",
      "userId": "14095855690740366827"
     },
     "user_tz": -300
    },
    "id": "0DyPrIGPEBDE",
    "outputId": "a2d49dbc-ad63-4b5e-ca99-cfcfbd2de8ad"
   },
   "outputs": [
    {
     "data": {
      "text/plain": [
       "(session_id                  0\n",
       " utm_source                  0\n",
       " utm_medium                  0\n",
       " utm_campaign                0\n",
       " utm_adcontent               0\n",
       " device_category             0\n",
       " device_brand                0\n",
       " device_screen_resolution    0\n",
       " device_browser              0\n",
       " geo_country                 0\n",
       " geo_city                    0\n",
       " dtype: int64,\n",
       " session_id      0\n",
       " event_action    0\n",
       " dtype: int64)"
      ]
     },
     "execution_count": 11,
     "metadata": {},
     "output_type": "execute_result"
    }
   ],
   "source": [
    "#checking the result\n",
    "\n",
    "df_sessions.isnull().sum(),df_hits.isnull().sum()"
   ]
  },
  {
   "cell_type": "code",
   "execution_count": 12,
   "id": "042b6180",
   "metadata": {
    "executionInfo": {
     "elapsed": 225869,
     "status": "ok",
     "timestamp": 1674367956413,
     "user": {
      "displayName": "Никита Зуев",
      "userId": "14095855690740366827"
     },
     "user_tz": -300
    },
    "id": "042b6180"
   },
   "outputs": [],
   "source": [
    "#Grouping df_hits\n",
    "\n",
    "df_hits =  df_hits.groupby(['session_id']).max().reset_index()"
   ]
  },
  {
   "cell_type": "code",
   "execution_count": 13,
   "id": "80999231",
   "metadata": {
    "executionInfo": {
     "elapsed": 12,
     "status": "ok",
     "timestamp": 1674367982536,
     "user": {
      "displayName": "Никита Зуев",
      "userId": "14095855690740366827"
     },
     "user_tz": -300
    },
    "id": "80999231"
   },
   "outputs": [],
   "source": [
    "#########################################FEATURE ENGINEERING##################################################"
   ]
  },
  {
   "cell_type": "code",
   "execution_count": 14,
   "id": "e93fa4ee",
   "metadata": {
    "executionInfo": {
     "elapsed": 6,
     "status": "ok",
     "timestamp": 1674368613263,
     "user": {
      "displayName": "Никита Зуев",
      "userId": "14095855690740366827"
     },
     "user_tz": -300
    },
    "id": "e93fa4ee"
   },
   "outputs": [],
   "source": [
    "#Encoding categorical features\n",
    "\n",
    "def ORD(df):\n",
    "    obj_col = [col for col in df.columns if df[col].dtype == 'object']\n",
    "    obj_col.pop(0)\n",
    "\n",
    "    path ='/home/nikitazuev/git/sber_autosubscribe/final_project/encoders/' \n",
    "    directory= os.listdir(path) \n",
    "    if len(directory) < 3:\n",
    "        for obj in obj_col:\n",
    "            enc = LabelEncoder()\n",
    "            enc.fit(df[[obj]])\n",
    "            df[obj] = enc.transform(df[[obj]])\n",
    "            filenam = f'{path}{obj}_encoder.bin'\n",
    "            joblib.dump(enc, filenam)\n",
    "    else:\n",
    "        for obj in obj_col:\n",
    "            enc = joblib.load(f'{path}{obj}_encoder.bin')\n",
    "            df[obj] = enc.transform(df[[obj]])"
   ]
  },
  {
   "cell_type": "code",
   "execution_count": 15,
   "id": "fc91e99b",
   "metadata": {
    "colab": {
     "base_uri": "https://localhost:8080/"
    },
    "executionInfo": {
     "elapsed": 5339,
     "status": "ok",
     "timestamp": 1674367987866,
     "user": {
      "displayName": "Никита Зуев",
      "userId": "14095855690740366827"
     },
     "user_tz": -300
    },
    "id": "fc91e99b",
    "outputId": "9c49ad3b-a9f0-46a0-8a3f-c33922065140"
   },
   "outputs": [],
   "source": [
    "ORD(df_sessions)"
   ]
  },
  {
   "cell_type": "code",
   "execution_count": 16,
   "id": "acf43ab2",
   "metadata": {
    "executionInfo": {
     "elapsed": 5,
     "status": "ok",
     "timestamp": 1674368615149,
     "user": {
      "displayName": "Никита Зуев",
      "userId": "14095855690740366827"
     },
     "user_tz": -300
    },
    "id": "acf43ab2"
   },
   "outputs": [],
   "source": [
    "#Standartization\n",
    "\n",
    "def STD(df):\n",
    "    path ='/home/nikitazuev/git/sber_autosubscribe/final_project/scalers/' \n",
    "    directory= os.listdir(path) \n",
    "    num_col = [col for col in df.columns if df[col].dtype != 'object']\n",
    "    if len(directory) == 0:\n",
    "        for std_feature in num_col:\n",
    "            std_scaler=StandardScaler()\n",
    "            std_scaler.fit(df[[std_feature]])\n",
    "            scaled=std_scaler.transform(df[[std_feature]])\n",
    "            filenam = f'/home/nikitazuev/git/sber_autosubscribe/final_project/scalers/{std_feature}_scaler.bin'\n",
    "            joblib.dump(std_scaler, filenam)\n",
    "            df[f\"{std_feature}\"]=scaled\n",
    "    else:\n",
    "        for process in num_col:\n",
    "            scaler = joblib.load(f'/home/nikitazuev/git/sber_autosubscribe/final_project/scalers/{process}_scaler.bin')\n",
    "            scaled = scaler.transform(df[[process]])\n",
    "            df[f\"{process}\"]=scaled"
   ]
  },
  {
   "cell_type": "code",
   "execution_count": 17,
   "id": "fcb99607",
   "metadata": {
    "executionInfo": {
     "elapsed": 724,
     "status": "ok",
     "timestamp": 1674367999395,
     "user": {
      "displayName": "Никита Зуев",
      "userId": "14095855690740366827"
     },
     "user_tz": -300
    },
    "id": "fcb99607"
   },
   "outputs": [],
   "source": [
    "STD(df_sessions)"
   ]
  },
  {
   "cell_type": "code",
   "execution_count": 18,
   "id": "30dee921",
   "metadata": {
    "executionInfo": {
     "elapsed": 919,
     "status": "ok",
     "timestamp": 1674368038448,
     "user": {
      "displayName": "Никита Зуев",
      "userId": "14095855690740366827"
     },
     "user_tz": -300
    },
    "id": "30dee921"
   },
   "outputs": [
    {
     "data": {
      "text/plain": [
       "array([0, 1])"
      ]
     },
     "execution_count": 18,
     "metadata": {},
     "output_type": "execute_result"
    }
   ],
   "source": [
    "#Target column engineering, so it could be binary classification problem\n",
    "\n",
    "target_list = ['sub_car_claim_click', 'sub_car_claim_submit_click',\n",
    "'sub_open_dialog_click', 'sub_custom_question_submit_click',\n",
    "'sub_call_number_click', 'sub_callback_submit_click', 'sub_submit_success',\n",
    "'sub_car_request_submit_click']\n",
    "df_hits['event_action'] = df_hits['event_action'].apply(lambda x: 1 if x in target_list else 0)\n",
    "df_hits.event_action.unique()"
   ]
  },
  {
   "cell_type": "code",
   "execution_count": 19,
   "id": "5820c5e8",
   "metadata": {
    "executionInfo": {
     "elapsed": 31622,
     "status": "ok",
     "timestamp": 1674368081299,
     "user": {
      "displayName": "Никита Зуев",
      "userId": "14095855690740366827"
     },
     "user_tz": -300
    },
    "id": "5820c5e8"
   },
   "outputs": [],
   "source": [
    "#Saving final dataset \n",
    "\n",
    "df_sessions.merge(df_hits, on=['session_id'], how='inner').drop(columns=['session_id']).to_csv('/home/nikitazuev/git/sber_autosubscribe/final_project/data/final_df.csv',index=False)"
   ]
  },
  {
   "cell_type": "code",
   "execution_count": 20,
   "id": "5b774b43",
   "metadata": {
    "executionInfo": {
     "elapsed": 17,
     "status": "ok",
     "timestamp": 1674364095934,
     "user": {
      "displayName": "Никита Зуев",
      "userId": "14095855690740366827"
     },
     "user_tz": -300
    },
    "id": "5b774b43"
   },
   "outputs": [],
   "source": [
    "##########################################MODELING#################################################################"
   ]
  },
  {
   "cell_type": "code",
   "execution_count": 21,
   "id": "1eec8a70",
   "metadata": {
    "executionInfo": {
     "elapsed": 5098,
     "status": "ok",
     "timestamp": 1674368141840,
     "user": {
      "displayName": "Никита Зуев",
      "userId": "14095855690740366827"
     },
     "user_tz": -300
    },
    "id": "1eec8a70"
   },
   "outputs": [
    {
     "data": {
      "text/html": [
       "<div>\n",
       "<style scoped>\n",
       "    .dataframe tbody tr th:only-of-type {\n",
       "        vertical-align: middle;\n",
       "    }\n",
       "\n",
       "    .dataframe tbody tr th {\n",
       "        vertical-align: top;\n",
       "    }\n",
       "\n",
       "    .dataframe thead th {\n",
       "        text-align: right;\n",
       "    }\n",
       "</style>\n",
       "<table border=\"1\" class=\"dataframe\">\n",
       "  <thead>\n",
       "    <tr style=\"text-align: right;\">\n",
       "      <th></th>\n",
       "      <th>utm_source</th>\n",
       "      <th>utm_medium</th>\n",
       "      <th>utm_campaign</th>\n",
       "      <th>utm_adcontent</th>\n",
       "      <th>device_category</th>\n",
       "      <th>device_brand</th>\n",
       "      <th>device_screen_resolution</th>\n",
       "      <th>device_browser</th>\n",
       "      <th>geo_country</th>\n",
       "      <th>geo_city</th>\n",
       "      <th>event_action</th>\n",
       "    </tr>\n",
       "  </thead>\n",
       "  <tbody>\n",
       "    <tr>\n",
       "      <th>0</th>\n",
       "      <td>0.033661</td>\n",
       "      <td>-0.591232</td>\n",
       "      <td>-0.443622</td>\n",
       "      <td>2.040975</td>\n",
       "      <td>0.451891</td>\n",
       "      <td>-0.009964</td>\n",
       "      <td>-0.371761</td>\n",
       "      <td>-0.827775</td>\n",
       "      <td>0.05221</td>\n",
       "      <td>1.894256</td>\n",
       "      <td>0</td>\n",
       "    </tr>\n",
       "    <tr>\n",
       "      <th>1</th>\n",
       "      <td>-1.249171</td>\n",
       "      <td>0.143040</td>\n",
       "      <td>-0.965082</td>\n",
       "      <td>2.279139</td>\n",
       "      <td>0.451891</td>\n",
       "      <td>0.953660</td>\n",
       "      <td>0.212309</td>\n",
       "      <td>1.245055</td>\n",
       "      <td>0.05221</td>\n",
       "      <td>-0.096875</td>\n",
       "      <td>0</td>\n",
       "    </tr>\n",
       "    <tr>\n",
       "      <th>2</th>\n",
       "      <td>0.033661</td>\n",
       "      <td>-0.591232</td>\n",
       "      <td>-0.443622</td>\n",
       "      <td>2.040975</td>\n",
       "      <td>0.451891</td>\n",
       "      <td>-0.009964</td>\n",
       "      <td>-0.371761</td>\n",
       "      <td>-0.827775</td>\n",
       "      <td>0.05221</td>\n",
       "      <td>-0.671205</td>\n",
       "      <td>0</td>\n",
       "    </tr>\n",
       "    <tr>\n",
       "      <th>3</th>\n",
       "      <td>1.143137</td>\n",
       "      <td>0.061454</td>\n",
       "      <td>-0.408857</td>\n",
       "      <td>-0.227846</td>\n",
       "      <td>0.451891</td>\n",
       "      <td>1.560875</td>\n",
       "      <td>0.350477</td>\n",
       "      <td>-0.827775</td>\n",
       "      <td>0.05221</td>\n",
       "      <td>-0.096875</td>\n",
       "      <td>0</td>\n",
       "    </tr>\n",
       "    <tr>\n",
       "      <th>4</th>\n",
       "      <td>1.143137</td>\n",
       "      <td>0.061454</td>\n",
       "      <td>-0.408857</td>\n",
       "      <td>-0.516149</td>\n",
       "      <td>0.451891</td>\n",
       "      <td>1.560875</td>\n",
       "      <td>0.350477</td>\n",
       "      <td>-0.827775</td>\n",
       "      <td>0.05221</td>\n",
       "      <td>-0.096875</td>\n",
       "      <td>0</td>\n",
       "    </tr>\n",
       "    <tr>\n",
       "      <th>...</th>\n",
       "      <td>...</td>\n",
       "      <td>...</td>\n",
       "      <td>...</td>\n",
       "      <td>...</td>\n",
       "      <td>...</td>\n",
       "      <td>...</td>\n",
       "      <td>...</td>\n",
       "      <td>...</td>\n",
       "      <td>...</td>\n",
       "      <td>...</td>\n",
       "      <td>...</td>\n",
       "    </tr>\n",
       "    <tr>\n",
       "      <th>1732261</th>\n",
       "      <td>-2.532003</td>\n",
       "      <td>0.061454</td>\n",
       "      <td>-0.408857</td>\n",
       "      <td>-0.516149</td>\n",
       "      <td>-1.959596</td>\n",
       "      <td>-0.894385</td>\n",
       "      <td>-1.207044</td>\n",
       "      <td>-0.827775</td>\n",
       "      <td>0.05221</td>\n",
       "      <td>-0.096875</td>\n",
       "      <td>0</td>\n",
       "    </tr>\n",
       "    <tr>\n",
       "      <th>1732262</th>\n",
       "      <td>0.553728</td>\n",
       "      <td>-1.080747</td>\n",
       "      <td>-0.408857</td>\n",
       "      <td>-0.516149</td>\n",
       "      <td>0.451891</td>\n",
       "      <td>-0.894385</td>\n",
       "      <td>0.238477</td>\n",
       "      <td>1.146349</td>\n",
       "      <td>0.05221</td>\n",
       "      <td>1.178609</td>\n",
       "      <td>0</td>\n",
       "    </tr>\n",
       "    <tr>\n",
       "      <th>1732263</th>\n",
       "      <td>0.553728</td>\n",
       "      <td>-1.080747</td>\n",
       "      <td>-0.408857</td>\n",
       "      <td>-0.516149</td>\n",
       "      <td>0.451891</td>\n",
       "      <td>-0.894385</td>\n",
       "      <td>-0.082866</td>\n",
       "      <td>1.146349</td>\n",
       "      <td>0.05221</td>\n",
       "      <td>-0.096875</td>\n",
       "      <td>0</td>\n",
       "    </tr>\n",
       "    <tr>\n",
       "      <th>1732264</th>\n",
       "      <td>0.033661</td>\n",
       "      <td>-0.591232</td>\n",
       "      <td>-0.443622</td>\n",
       "      <td>-0.516149</td>\n",
       "      <td>0.451891</td>\n",
       "      <td>1.560875</td>\n",
       "      <td>0.417467</td>\n",
       "      <td>-0.827775</td>\n",
       "      <td>0.05221</td>\n",
       "      <td>-1.870594</td>\n",
       "      <td>0</td>\n",
       "    </tr>\n",
       "    <tr>\n",
       "      <th>1732265</th>\n",
       "      <td>0.692412</td>\n",
       "      <td>0.143040</td>\n",
       "      <td>-0.965082</td>\n",
       "      <td>2.379418</td>\n",
       "      <td>-1.959596</td>\n",
       "      <td>-0.894385</td>\n",
       "      <td>-1.830890</td>\n",
       "      <td>-0.827775</td>\n",
       "      <td>0.05221</td>\n",
       "      <td>-0.096875</td>\n",
       "      <td>0</td>\n",
       "    </tr>\n",
       "  </tbody>\n",
       "</table>\n",
       "<p>1732266 rows × 11 columns</p>\n",
       "</div>"
      ],
      "text/plain": [
       "         utm_source  utm_medium  utm_campaign  utm_adcontent  device_category  \\\n",
       "0          0.033661   -0.591232     -0.443622       2.040975         0.451891   \n",
       "1         -1.249171    0.143040     -0.965082       2.279139         0.451891   \n",
       "2          0.033661   -0.591232     -0.443622       2.040975         0.451891   \n",
       "3          1.143137    0.061454     -0.408857      -0.227846         0.451891   \n",
       "4          1.143137    0.061454     -0.408857      -0.516149         0.451891   \n",
       "...             ...         ...           ...            ...              ...   \n",
       "1732261   -2.532003    0.061454     -0.408857      -0.516149        -1.959596   \n",
       "1732262    0.553728   -1.080747     -0.408857      -0.516149         0.451891   \n",
       "1732263    0.553728   -1.080747     -0.408857      -0.516149         0.451891   \n",
       "1732264    0.033661   -0.591232     -0.443622      -0.516149         0.451891   \n",
       "1732265    0.692412    0.143040     -0.965082       2.379418        -1.959596   \n",
       "\n",
       "         device_brand  device_screen_resolution  device_browser  geo_country  \\\n",
       "0           -0.009964                 -0.371761       -0.827775      0.05221   \n",
       "1            0.953660                  0.212309        1.245055      0.05221   \n",
       "2           -0.009964                 -0.371761       -0.827775      0.05221   \n",
       "3            1.560875                  0.350477       -0.827775      0.05221   \n",
       "4            1.560875                  0.350477       -0.827775      0.05221   \n",
       "...               ...                       ...             ...          ...   \n",
       "1732261     -0.894385                 -1.207044       -0.827775      0.05221   \n",
       "1732262     -0.894385                  0.238477        1.146349      0.05221   \n",
       "1732263     -0.894385                 -0.082866        1.146349      0.05221   \n",
       "1732264      1.560875                  0.417467       -0.827775      0.05221   \n",
       "1732265     -0.894385                 -1.830890       -0.827775      0.05221   \n",
       "\n",
       "         geo_city  event_action  \n",
       "0        1.894256             0  \n",
       "1       -0.096875             0  \n",
       "2       -0.671205             0  \n",
       "3       -0.096875             0  \n",
       "4       -0.096875             0  \n",
       "...           ...           ...  \n",
       "1732261 -0.096875             0  \n",
       "1732262  1.178609             0  \n",
       "1732263 -0.096875             0  \n",
       "1732264 -1.870594             0  \n",
       "1732265 -0.096875             0  \n",
       "\n",
       "[1732266 rows x 11 columns]"
      ]
     },
     "execution_count": 21,
     "metadata": {},
     "output_type": "execute_result"
    }
   ],
   "source": [
    "final_df = pd.read_csv('/home/nikitazuev/git/sber_autosubscribe/final_project/data/final_df.csv')\n",
    "final_df"
   ]
  },
  {
   "cell_type": "code",
   "execution_count": 22,
   "id": "2da4f857",
   "metadata": {},
   "outputs": [
    {
     "data": {
      "text/plain": [
       "(         utm_source  utm_medium  utm_campaign  utm_adcontent  device_category  \\\n",
       " 0          0.033661   -0.591232     -0.443622       2.040975         0.451891   \n",
       " 1         -1.249171    0.143040     -0.965082       2.279139         0.451891   \n",
       " 2          0.033661   -0.591232     -0.443622       2.040975         0.451891   \n",
       " 3          1.143137    0.061454     -0.408857      -0.227846         0.451891   \n",
       " 4          1.143137    0.061454     -0.408857      -0.516149         0.451891   \n",
       " ...             ...         ...           ...            ...              ...   \n",
       " 1732261   -2.532003    0.061454     -0.408857      -0.516149        -1.959596   \n",
       " 1732262    0.553728   -1.080747     -0.408857      -0.516149         0.451891   \n",
       " 1732263    0.553728   -1.080747     -0.408857      -0.516149         0.451891   \n",
       " 1732264    0.033661   -0.591232     -0.443622      -0.516149         0.451891   \n",
       " 1732265    0.692412    0.143040     -0.965082       2.379418        -1.959596   \n",
       " \n",
       "          device_brand  device_screen_resolution  device_browser  geo_country  \\\n",
       " 0           -0.009964                 -0.371761       -0.827775      0.05221   \n",
       " 1            0.953660                  0.212309        1.245055      0.05221   \n",
       " 2           -0.009964                 -0.371761       -0.827775      0.05221   \n",
       " 3            1.560875                  0.350477       -0.827775      0.05221   \n",
       " 4            1.560875                  0.350477       -0.827775      0.05221   \n",
       " ...               ...                       ...             ...          ...   \n",
       " 1732261     -0.894385                 -1.207044       -0.827775      0.05221   \n",
       " 1732262     -0.894385                  0.238477        1.146349      0.05221   \n",
       " 1732263     -0.894385                 -0.082866        1.146349      0.05221   \n",
       " 1732264      1.560875                  0.417467       -0.827775      0.05221   \n",
       " 1732265     -0.894385                 -1.830890       -0.827775      0.05221   \n",
       " \n",
       "          geo_city  \n",
       " 0        1.894256  \n",
       " 1       -0.096875  \n",
       " 2       -0.671205  \n",
       " 3       -0.096875  \n",
       " 4       -0.096875  \n",
       " ...           ...  \n",
       " 1732261 -0.096875  \n",
       " 1732262  1.178609  \n",
       " 1732263 -0.096875  \n",
       " 1732264 -1.870594  \n",
       " 1732265 -0.096875  \n",
       " \n",
       " [1732266 rows x 10 columns],\n",
       " 0          0\n",
       " 1          0\n",
       " 2          0\n",
       " 3          0\n",
       " 4          0\n",
       "           ..\n",
       " 1732261    0\n",
       " 1732262    0\n",
       " 1732263    0\n",
       " 1732264    0\n",
       " 1732265    0\n",
       " Name: event_action, Length: 1732266, dtype: int64)"
      ]
     },
     "execution_count": 22,
     "metadata": {},
     "output_type": "execute_result"
    }
   ],
   "source": [
    "#Separating features from target\n",
    "\n",
    "X = final_df.drop(['event_action'],axis=1)\n",
    "Y = final_df['event_action']\n",
    "X,Y"
   ]
  },
  {
   "cell_type": "code",
   "execution_count": 23,
   "id": "1ac3084e",
   "metadata": {},
   "outputs": [
    {
     "data": {
      "image/png": "[encoded data removed]",
      "text/plain": [
       "<Figure size 640x480 with 1 Axes>"
      ]
     },
     "metadata": {},
     "output_type": "display_data"
    }
   ],
   "source": [
    "#Checking the ratio of values in target column, probably we need resampling\n",
    "\n",
    "target_values = [len(Y[Y==0]),len(Y[Y==1])]\n",
    "labels = ['Zero','One']\n",
    "palette_color = sns.color_palette('Set2')\n",
    "plt.pie(target_values,colors=palette_color,labels=labels)\n",
    "plt.show()"
   ]
  },
  {
   "cell_type": "code",
   "execution_count": 24,
   "id": "786d2ee1",
   "metadata": {
    "executionInfo": {
     "elapsed": 1174,
     "status": "ok",
     "timestamp": 1674368151964,
     "user": {
      "displayName": "Никита Зуев",
      "userId": "14095855690740366827"
     },
     "user_tz": -300
    },
    "id": "786d2ee1"
   },
   "outputs": [],
   "source": [
    "x_train, x_test, y_train, y_test = train_test_split(X, Y, test_size=0.33, random_state=42)\n",
    "sm = SMOTE(random_state=42)\n",
    "x_train, y_train = sm.fit_resample(x_train, y_train)"
   ]
  },
  {
   "cell_type": "code",
   "execution_count": 25,
   "id": "2201acbf",
   "metadata": {},
   "outputs": [
    {
     "data": {
      "image/png": "[encoded data removed]",
      "text/plain": [
       "<Figure size 640x480 with 1 Axes>"
      ]
     },
     "metadata": {},
     "output_type": "display_data"
    }
   ],
   "source": [
    "#Checking the result\n",
    "\n",
    "target_values = [len(y_train[y_train==0]),len(y_train[y_train==1])]\n",
    "labels = ['Zero','One']\n",
    "palette_color = sns.color_palette('Set2')\n",
    "plt.pie(target_values,colors=palette_color,labels=labels)\n",
    "plt.show()"
   ]
  },
  {
   "cell_type": "code",
   "execution_count": 26,
   "id": "20605b50",
   "metadata": {
    "executionInfo": {
     "elapsed": 6,
     "status": "ok",
     "timestamp": 1674368153258,
     "user": {
      "displayName": "Никита Зуев",
      "userId": "14095855690740366827"
     },
     "user_tz": -300
    },
    "id": "20605b50"
   },
   "outputs": [],
   "source": [
    "#Creating different models\n",
    "\n",
    "lgr=LogisticRegression(max_iter = 1000) \n",
    "bern = BernoulliNB()\n",
    "rfc = RandomForestClassifier(n_estimators=200, max_depth=3)\n",
    "tree = tree.DecisionTreeClassifier() #high test_score, the roc_auc is needed to be checked\n",
    "models = ['rfc','bern','tree','lgr'] "
   ]
  },
  {
   "cell_type": "code",
   "execution_count": 27,
   "id": "8bbedd8f",
   "metadata": {
    "colab": {
     "base_uri": "https://localhost:8080/"
    },
    "executionInfo": {
     "elapsed": 456266,
     "status": "ok",
     "timestamp": 1674364600049,
     "user": {
      "displayName": "Никита Зуев",
      "userId": "14095855690740366827"
     },
     "user_tz": -300
    },
    "id": "8bbedd8f",
    "outputId": "1fa5353e-7f31-4753-e70d-6ce136536b0e"
   },
   "outputs": [
    {
     "name": "stdout",
     "output_type": "stream",
     "text": [
      "{'fit_time': array([118.01544833, 115.82065225, 130.49437547]), 'score_time': array([6.07075453, 6.35601068, 6.14029455]), 'test_score': array([0.65708314, 0.65959081, 0.65849156])}\n",
      "{'fit_time': array([0.78064847, 0.73714066, 0.73460031]), 'score_time': array([0.27522016, 0.26568508, 0.26298928]), 'test_score': array([0.57151901, 0.57075101, 0.5725031 ])}\n",
      "{'fit_time': array([7.56813884, 8.78033853, 8.69026518]), 'score_time': array([0.20871425, 0.21897602, 0.21817374]), 'test_score': array([0.91594981, 0.91873379, 0.91913844])}\n",
      "{'fit_time': array([1.67665839, 1.77062821, 1.76370788]), 'score_time': array([0.10267615, 0.19846773, 0.21080494]), 'test_score': array([0.56914108, 0.57069783, 0.57013943])}\n"
     ]
    }
   ],
   "source": [
    "#Finding the best model with cross-validation, detecting overfitting by checking test_scores and fit_time\n",
    "\n",
    "for model in models:\n",
    "    exec(f'print(cross_validate({model},x_train,y_train,cv=3))') "
   ]
  },
  {
   "cell_type": "code",
   "execution_count": 28,
   "id": "W3-iOvpxaeiF",
   "metadata": {
    "executionInfo": {
     "elapsed": 258074,
     "status": "ok",
     "timestamp": 1674368415287,
     "user": {
      "displayName": "Никита Зуев",
      "userId": "14095855690740366827"
     },
     "user_tz": -300
    },
    "id": "W3-iOvpxaeiF"
   },
   "outputs": [],
   "source": [
    "for model in models: #tree model showed the best test_score, maybe it's the best model, but to be precise I will check roc_auc curve\n",
    "    exec(f'{model}.fit(x_train,y_train)')"
   ]
  },
  {
   "cell_type": "code",
   "execution_count": 29,
   "id": "u3QPdkaZxIig",
   "metadata": {
    "colab": {
     "base_uri": "https://localhost:8080/"
    },
    "executionInfo": {
     "elapsed": 7014,
     "status": "ok",
     "timestamp": 1674368422263,
     "user": {
      "displayName": "Никита Зуев",
      "userId": "14095855690740366827"
     },
     "user_tz": -300
    },
    "id": "u3QPdkaZxIig",
    "outputId": "4ba13b14-f923-477c-eb95-4570b75bd7b9"
   },
   "outputs": [
    {
     "name": "stdout",
     "output_type": "stream",
     "text": [
      "0.671978765281235\n",
      "0.5999721062897326\n",
      "0.6049129258483736\n",
      "0.5894169760108212\n"
     ]
    }
   ],
   "source": [
    "for model in models:\n",
    "    exec(f'print(roc_auc_score(y_test, {model}.predict_proba(x_test)[:, 1]))')"
   ]
  },
  {
   "cell_type": "code",
   "execution_count": 30,
   "id": "9oojuvmsoLSf",
   "metadata": {
    "executionInfo": {
     "elapsed": 809,
     "status": "ok",
     "timestamp": 1674368430417,
     "user": {
      "displayName": "Никита Зуев",
      "userId": "14095855690740366827"
     },
     "user_tz": -300
    },
    "id": "9oojuvmsoLSf"
   },
   "outputs": [],
   "source": [
    "#The tree predicts more accurate but it seems that it has no logic in it's decisions, that's why I'm saving rfc\n",
    "\n",
    "filename='/home/nikitazuev/git/sber_autosubscribe/final_project/model/final_model.pickle'\n",
    "with open(filename,'wb') as file:\n",
    "    pickle.dump(rfc, file)"
   ]
  },
  {
   "cell_type": "code",
   "execution_count": 31,
   "id": "c6zjaNtALpMy",
   "metadata": {
    "colab": {
     "base_uri": "https://localhost:8080/",
     "height": 1000
    },
    "executionInfo": {
     "elapsed": 1667670,
     "status": "error",
     "timestamp": 1674370296181,
     "user": {
      "displayName": "Никита Зуев",
      "userId": "14095855690740366827"
     },
     "user_tz": -300
    },
    "id": "c6zjaNtALpMy",
    "outputId": "68c71eff-a223-47c4-ed8e-502b280389a7",
    "scrolled": false
   },
   "outputs": [
    {
     "name": "stdout",
     "output_type": "stream",
     "text": [
      "[0]\n",
      "[1]\n",
      "[0]\n",
      "[1]\n",
      "[1]\n"
     ]
    }
   ],
   "source": [
    "#Just last check, again, on the raw data.\n",
    "\n",
    "def pipeline(df):\n",
    "    delete_cols(df)\n",
    "    fill_data(df)\n",
    "    ORD(df)\n",
    "    STD(df)\n",
    "\n",
    "\n",
    "for i in range(5):\n",
    "    with open(filename,'rb') as file:\n",
    "        session = pd.read_csv('/home/nikitazuev/git/sber_autosubscribe/final_project/data/ga_sessions.csv', low_memory=False).iloc[i].to_frame().T\n",
    "        pipeline(session)\n",
    "        final_session = session.drop(columns=['session_id'])\n",
    "        rfc = pickle.load(file)\n",
    "        print(rfc.predict(final_session))"
   ]
  },
  {
   "cell_type": "code",
   "execution_count": null,
   "id": "n3Ocd90Fkr43",
   "metadata": {
    "id": "n3Ocd90Fkr43"
   },
   "outputs": [],
   "source": []
  }
 ],
 "metadata": {
  "colab": {
   "provenance": []
  },
  "gpuClass": "standard",
  "kernelspec": {
   "display_name": "Python 3 (ipykernel)",
   "language": "python",
   "name": "python3"
  },
  "language_info": {
   "codemirror_mode": {
    "name": "ipython",
    "version": 3
   },
   "file_extension": ".py",
   "mimetype": "text/x-python",
   "name": "python",
   "nbconvert_exporter": "python",
   "pygments_lexer": "ipython3",
   "version": "3.11.3"
  }
 },
 "nbformat": 4,
 "nbformat_minor": 5
}
